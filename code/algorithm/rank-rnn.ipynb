{
 "cells": [
  {
   "cell_type": "markdown",
   "metadata": {},
   "source": [
    "## 基于RNN的排序模块"
   ]
  },
  {
   "cell_type": "markdown",
   "metadata": {},
   "source": [
    "- 主要思路：根据评分的大小将评分转换为喜欢或者不喜欢，然后根据用户历史喜好预测他是否喜欢某个电影。根据分类概率，做point-wise排序。\n",
    "- 假设：用户在某一段时间内观看了一些电影之后，会对一些具体的电影特别感兴趣\n",
    "- 样本：(电影历史评分,待预测电影id)，评分\n",
    "- 处理方法：电影历史评分送入RNN，RNN的Embedding和电影id的Embedding做运算，得到预测评分"
   ]
  },
  {
   "cell_type": "markdown",
   "metadata": {},
   "source": [
    "### 构造样本"
   ]
  },
  {
   "cell_type": "markdown",
   "metadata": {},
   "source": [
    "- 评分转化为类别（喜欢or不喜欢），方法每个用户选择阈值，评分大于阈值的为喜欢，评分小于等于阈值的为不喜欢。（阈值可以考虑使用最大值与最小值的中间值、中位数、平均数等）\n",
    "- 每个用户的评分按照时间排序。设定时间窗口，滑动生成样本。\n",
    "    - 样本特征分为U侧特征和I侧特征，U侧特征为历史评分，I侧特征为电影ID，标签是是否喜欢\n",
    "    - 比如窗口为n，则每个用户的第i个样本为：<$r_i, r_{i+1}, ..., r{i+n-1}$>,$r_n$ => $r_n<r_{mean}$"
   ]
  },
  {
   "cell_type": "code",
   "execution_count": 2,
   "metadata": {},
   "outputs": [],
   "source": [
    "import warnings\n",
    "warnings.filterwarnings(\"ignore\")"
   ]
  },
  {
   "cell_type": "code",
   "execution_count": 3,
   "metadata": {},
   "outputs": [],
   "source": [
    "import pandas as pd\n",
    "import numpy as np\n",
    "import joblib\n",
    "import matplotlib.pyplot as plt\n",
    "import seaborn as sns\n",
    "%matplotlib inline"
   ]
  },
  {
   "cell_type": "markdown",
   "metadata": {},
   "source": [
    "## 加载数据"
   ]
  },
  {
   "cell_type": "code",
   "execution_count": 3,
   "metadata": {},
   "outputs": [],
   "source": [
    "movies_file_path = '../../data/ml-clean/movies_v2.csv'\n",
    "ratings_file_path = '../../data/ml-clean/ratings_v2.csv'"
   ]
  },
  {
   "cell_type": "code",
   "execution_count": 4,
   "metadata": {},
   "outputs": [],
   "source": [
    "df_movies = pd.read_csv(movies_file_path, index_col=0)"
   ]
  },
  {
   "cell_type": "code",
   "execution_count": 5,
   "metadata": {},
   "outputs": [],
   "source": [
    "df_ratings = pd.read_csv(ratings_file_path, index_col=0)"
   ]
  },
  {
   "cell_type": "code",
   "execution_count": 6,
   "metadata": {},
   "outputs": [
    {
     "data": {
      "text/plain": [
       "((15171, 14), (15654592, 5))"
      ]
     },
     "execution_count": 6,
     "metadata": {},
     "output_type": "execute_result"
    }
   ],
   "source": [
    "df_movies.shape, df_ratings.shape"
   ]
  },
  {
   "cell_type": "markdown",
   "metadata": {},
   "source": [
    "## 构造样本"
   ]
  },
  {
   "cell_type": "markdown",
   "metadata": {},
   "source": [
    "#### 确定阈值"
   ]
  },
  {
   "cell_type": "markdown",
   "metadata": {},
   "source": [
    "- 实际应用场景中喜欢的电影往往只占到推荐总数的很少一部分\n",
    "- 确定喜欢还是不喜欢的阈值采用所有评分中的最大值"
   ]
  },
  {
   "cell_type": "code",
   "execution_count": 7,
   "metadata": {},
   "outputs": [],
   "source": [
    "df_threshold_score = df_ratings[['userId', 'rating']].groupby('userId').max()"
   ]
  },
  {
   "cell_type": "code",
   "execution_count": 8,
   "metadata": {},
   "outputs": [],
   "source": [
    "df_threshold_score = df_threshold_score.reset_index()"
   ]
  },
  {
   "cell_type": "code",
   "execution_count": 9,
   "metadata": {},
   "outputs": [],
   "source": [
    "df_threshold_score.columns = ['userId', 'threshold_rating']"
   ]
  },
  {
   "cell_type": "markdown",
   "metadata": {},
   "source": [
    "- 对每条评分打分类标签（小于阈值为不喜欢（0），大于等于阈值为喜欢（1））"
   ]
  },
  {
   "cell_type": "code",
   "execution_count": 10,
   "metadata": {},
   "outputs": [],
   "source": [
    "df_ratings = pd.merge(df_ratings, df_threshold_score, on='userId')"
   ]
  },
  {
   "cell_type": "code",
   "execution_count": 11,
   "metadata": {},
   "outputs": [],
   "source": [
    "df_ratings['is_like'] = df_ratings['rating'] >= df_ratings['threshold_rating']"
   ]
  },
  {
   "cell_type": "markdown",
   "metadata": {},
   "source": [
    "- 代表喜欢和不喜欢的打分数量如下："
   ]
  },
  {
   "cell_type": "code",
   "execution_count": 12,
   "metadata": {},
   "outputs": [
    {
     "data": {
      "text/plain": [
       "False    13515943\n",
       "True      2138649\n",
       "Name: is_like, dtype: int64"
      ]
     },
     "execution_count": 12,
     "metadata": {},
     "output_type": "execute_result"
    }
   ],
   "source": [
    "df_ratings['is_like'].value_counts()"
   ]
  },
  {
   "cell_type": "markdown",
   "metadata": {},
   "source": [
    "- 代表不喜欢的打分占比如下："
   ]
  },
  {
   "cell_type": "code",
   "execution_count": 13,
   "metadata": {},
   "outputs": [
    {
     "data": {
      "text/plain": [
       "0.13661480286423305"
      ]
     },
     "execution_count": 13,
     "metadata": {},
     "output_type": "execute_result"
    }
   ],
   "source": [
    "(df_ratings['is_like'].sum() / df_ratings['is_like'].count())"
   ]
  },
  {
   "cell_type": "markdown",
   "metadata": {},
   "source": [
    "#### 查看一下每个用户的评分数量信息"
   ]
  },
  {
   "cell_type": "code",
   "execution_count": 14,
   "metadata": {},
   "outputs": [],
   "source": [
    "df_rating_count = df_ratings[['userId', 'rating']].groupby('userId').count()"
   ]
  },
  {
   "cell_type": "code",
   "execution_count": 15,
   "metadata": {},
   "outputs": [],
   "source": [
    "df_rating_count = df_rating_count.reset_index()"
   ]
  },
  {
   "cell_type": "code",
   "execution_count": 16,
   "metadata": {},
   "outputs": [],
   "source": [
    "df_rating_count.columns = ['userId', 'rating_count']"
   ]
  },
  {
   "cell_type": "code",
   "execution_count": 17,
   "metadata": {},
   "outputs": [
    {
     "data": {
      "text/plain": [
       "count    189911.000000\n",
       "mean         82.431202\n",
       "std         144.897259\n",
       "min           4.000000\n",
       "25%          17.000000\n",
       "50%          35.000000\n",
       "75%          84.000000\n",
       "max        8573.000000\n",
       "Name: rating_count, dtype: float64"
      ]
     },
     "execution_count": 17,
     "metadata": {},
     "output_type": "execute_result"
    }
   ],
   "source": [
    "df_rating_count['rating_count'].describe()"
   ]
  },
  {
   "cell_type": "markdown",
   "metadata": {},
   "source": [
    "- 每个用户至少有4条评分\n",
    "- 有75%的用户，其评分在17条以上\n",
    "- 评分最多的用户有8573条"
   ]
  },
  {
   "cell_type": "markdown",
   "metadata": {},
   "source": [
    "#### 在用户维度划分训练集、测试集"
   ]
  },
  {
   "cell_type": "code",
   "execution_count": 18,
   "metadata": {},
   "outputs": [],
   "source": [
    "df_userid = df_ratings[['userId']].drop_duplicates()"
   ]
  },
  {
   "cell_type": "code",
   "execution_count": 19,
   "metadata": {},
   "outputs": [],
   "source": [
    "from sklearn.model_selection import train_test_split"
   ]
  },
  {
   "cell_type": "code",
   "execution_count": 20,
   "metadata": {},
   "outputs": [],
   "source": [
    "df_userid_train, df_userid_test = train_test_split(df_userid, test_size=0.3)"
   ]
  },
  {
   "cell_type": "markdown",
   "metadata": {},
   "source": [
    "- 训练集和测试集的用户数量："
   ]
  },
  {
   "cell_type": "code",
   "execution_count": 21,
   "metadata": {},
   "outputs": [
    {
     "data": {
      "text/plain": [
       "((132937, 1), (56974, 1))"
      ]
     },
     "execution_count": 21,
     "metadata": {},
     "output_type": "execute_result"
    }
   ],
   "source": [
    "df_userid_train.shape, df_userid_test.shape"
   ]
  },
  {
   "cell_type": "code",
   "execution_count": 22,
   "metadata": {},
   "outputs": [],
   "source": [
    "df_ratings_train = pd.merge(df_ratings, df_userid_train, on='userId')"
   ]
  },
  {
   "cell_type": "code",
   "execution_count": 23,
   "metadata": {},
   "outputs": [],
   "source": [
    "df_ratings_test = pd.merge(df_ratings, df_userid_test, on='userId')"
   ]
  },
  {
   "cell_type": "markdown",
   "metadata": {},
   "source": [
    "- 训练集和测试集的评论数量："
   ]
  },
  {
   "cell_type": "code",
   "execution_count": 24,
   "metadata": {},
   "outputs": [
    {
     "data": {
      "text/plain": [
       "((10944668, 7), (4709924, 7))"
      ]
     },
     "execution_count": 24,
     "metadata": {},
     "output_type": "execute_result"
    }
   ],
   "source": [
    "df_ratings_train.shape, df_ratings_test.shape"
   ]
  },
  {
   "cell_type": "markdown",
   "metadata": {},
   "source": [
    "#### 生成样本数据"
   ]
  },
  {
   "cell_type": "markdown",
   "metadata": {},
   "source": [
    "- U侧：特征的历史评分滑动窗口大小选择10，所以特征有10维，每维特征的元素的具体输入值为：2 * movieId + is_like\n",
    "- I侧：特征为历史评分窗口外的下一个评分的movieId\n",
    "- 预测标签：喜欢（1）还是不喜欢（0）\n",
    "- 生成样本数据的算法\n",
    "    - 对评分DataFrame按照(userId,timestamp)排序\n",
    "    - 对userId, movieId, is_like列分别做n次shift，新生成n * 3列，n为窗口大小。\n",
    "    - 对于每一列数据判断，判断原userId列和新生成n列userId是否相同，不同丢弃\n",
    "    - 前n个movieId和is_like可生成U侧特征，第n+1个movieId为I侧特征，第n+1个is_like为样本标签"
   ]
  },
  {
   "cell_type": "code",
   "execution_count": 26,
   "metadata": {},
   "outputs": [],
   "source": [
    "def should_drop(row):\n",
    "    if len(set(row.filter(regex='userId'))) > 1:\n",
    "        return True\n",
    "    return False"
   ]
  },
  {
   "cell_type": "code",
   "execution_count": 27,
   "metadata": {},
   "outputs": [],
   "source": [
    "def make_samples(df_ratings, window_size):\n",
    "    df_ratings = df_ratings.sort_values(by=['userId', 'timestamp'])\n",
    "    df_ratings['userId_0'] = df_ratings['userId']\n",
    "    df_ratings['movieId_0'] = df_ratings['movieId']\n",
    "    df_ratings['is_like_0'] = df_ratings['is_like']\n",
    "    for i in range(1, window_size + 1):\n",
    "        df_shift = df_ratings[['userId', 'movieId', 'is_like']].shift(-i)\n",
    "        df_shift.columns = ['userId_{}'.format(i), 'movieId_{}'.format(i), 'is_like_{}'.format(i)]\n",
    "        df_ratings = pd.concat([df_ratings, df_shift], axis=1)\n",
    "    df_ratings['should_drop'] = df_ratings.apply(should_drop, axis=1)\n",
    "    df_ratings = df_ratings[~df_ratings['should_drop']]\n",
    "    for i in range(0, window_size):\n",
    "        df_ratings['x_user_{}'.format(i)] = df_ratings['movieId_{}'.format(i)] * 2 + df_ratings['is_like_{}'.format(i)]\n",
    "    df_ratings['x_item'] = df_ratings['movieId_{}'.format(window_size)]\n",
    "    df_ratings['y'] = df_ratings['is_like_{}'.format(window_size)]\n",
    "    X_user = df_ratings.filter(regex='x_user').values\n",
    "    X_item = df_ratings.filter(regex='x_item').values\n",
    "    y = df_ratings.filter(regex='y').values\n",
    "    return X_user, X_item, y"
   ]
  },
  {
   "cell_type": "code",
   "execution_count": 1,
   "metadata": {},
   "outputs": [],
   "source": [
    "X_user_train, X_item_train, y_train = make_samples(df_ratings_train, 10)"
   ]
  },
  {
   "cell_type": "code",
   "execution_count": null,
   "metadata": {},
   "outputs": [],
   "source": [
    "X_user_train.shape, X_item_train.shape, y_train.shape"
   ]
  },
  {
   "cell_type": "code",
   "execution_count": null,
   "metadata": {},
   "outputs": [],
   "source": [
    "X_user_test, X_item_test, y_test = make_samples(df_ratings_test, 10)"
   ]
  },
  {
   "cell_type": "code",
   "execution_count": null,
   "metadata": {},
   "outputs": [],
   "source": [
    "X_user_test.shape, X_item_test.shape, y_test.shape"
   ]
  },
  {
   "cell_type": "code",
   "execution_count": null,
   "metadata": {},
   "outputs": [],
   "source": [
    "!free"
   ]
  },
  {
   "cell_type": "markdown",
   "metadata": {},
   "source": [
    "#### 保存为pickle文件"
   ]
  },
  {
   "cell_type": "code",
   "execution_count": 35,
   "metadata": {},
   "outputs": [
    {
     "data": {
      "text/plain": [
       "['data_test.m']"
      ]
     },
     "execution_count": 35,
     "metadata": {},
     "output_type": "execute_result"
    }
   ],
   "source": [
    "joblib.dump((X_user_test, X_item_test, y_test), 'data_test.m')"
   ]
  },
  {
   "cell_type": "code",
   "execution_count": 45,
   "metadata": {},
   "outputs": [
    {
     "name": "stdout",
     "output_type": "stream",
     "text": [
      "-rw-r--r-- 1 root root 370M Mar 14 14:16 data_test.m\r\n"
     ]
    }
   ],
   "source": [
    "!ls -all -h data_test.m"
   ]
  },
  {
   "cell_type": "code",
   "execution_count": 42,
   "metadata": {},
   "outputs": [
    {
     "data": {
      "text/plain": [
       "['data_train.m']"
      ]
     },
     "execution_count": 42,
     "metadata": {},
     "output_type": "execute_result"
    }
   ],
   "source": [
    "joblib.dump((X_user_train, X_item_train, y_train), 'data_train.m')"
   ]
  },
  {
   "cell_type": "code",
   "execution_count": 44,
   "metadata": {},
   "outputs": [
    {
     "name": "stdout",
     "output_type": "stream",
     "text": [
      "-rw-r--r-- 1 root root 855M Mar 14 15:19 data_train.m\r\n"
     ]
    }
   ],
   "source": [
    "!ls -all -h data_train.m"
   ]
  },
  {
   "cell_type": "markdown",
   "metadata": {},
   "source": [
    "## 加载样本数据"
   ]
  },
  {
   "cell_type": "code",
   "execution_count": 4,
   "metadata": {},
   "outputs": [],
   "source": [
    "X_user_train, X_item_train, y_train = joblib.load('data_train.m')"
   ]
  },
  {
   "cell_type": "code",
   "execution_count": 5,
   "metadata": {},
   "outputs": [
    {
     "data": {
      "text/plain": [
       "((9601120, 10), (9601120, 1), (9601120, 1))"
      ]
     },
     "execution_count": 5,
     "metadata": {},
     "output_type": "execute_result"
    }
   ],
   "source": [
    "X_user_train.shape, X_item_train.shape, y_train.shape"
   ]
  },
  {
   "cell_type": "code",
   "execution_count": 6,
   "metadata": {},
   "outputs": [],
   "source": [
    "X_user_test, X_item_test, y_test = joblib.load('data_test.m')"
   ]
  },
  {
   "cell_type": "code",
   "execution_count": 7,
   "metadata": {},
   "outputs": [
    {
     "data": {
      "text/plain": [
       "((4154428, 10), (4154428, 1), (4154428, 1))"
      ]
     },
     "execution_count": 7,
     "metadata": {},
     "output_type": "execute_result"
    }
   ],
   "source": [
    "X_user_test.shape, X_item_test.shape, y_test.shape"
   ]
  },
  {
   "cell_type": "markdown",
   "metadata": {},
   "source": [
    "## 构造模型"
   ]
  },
  {
   "cell_type": "markdown",
   "metadata": {},
   "source": [
    "- U侧特征做Embedding送入RNN，I侧特征做Embedding，之后与RNN的输入做拼接，然后在加一个输出层\n",
    "- 模型的输出层接的是sigmoid函数，预测是喜欢还是不喜欢"
   ]
  },
  {
   "cell_type": "code",
   "execution_count": 8,
   "metadata": {},
   "outputs": [
    {
     "name": "stderr",
     "output_type": "stream",
     "text": [
      "Using TensorFlow backend.\n"
     ]
    }
   ],
   "source": [
    "import keras\n",
    "from keras.layers import Input, Embedding, LSTM, Dense, Flatten\n",
    "from keras.optimizers import Adam\n",
    "from keras.models import Model"
   ]
  },
  {
   "cell_type": "code",
   "execution_count": 9,
   "metadata": {},
   "outputs": [],
   "source": [
    "from keras_ex.metrics import precision_score, recall_score"
   ]
  },
  {
   "cell_type": "code",
   "execution_count": 13,
   "metadata": {},
   "outputs": [],
   "source": [
    "def build_model(max_movie_id, window_size):\n",
    "    input_user = Input(shape=(window_size,))\n",
    "    embedding_user = Embedding(input_dim=(max_movie_id + 1) * 2, output_dim=16, \n",
    "                               embeddings_initializer='he_normal', input_length=window_size)(input_user)\n",
    "    lstm_user = LSTM(64)(embedding_user)\n",
    "    output_user = Dense(128, activation='relu')(lstm_user)\n",
    "    input_item = Input(shape=(1,))\n",
    "    embedding_item = Embedding(input_dim=max_movie_id + 1, \n",
    "                               embeddings_initializer='he_normal', output_dim=16)(input_item)\n",
    "    embedding_item = Flatten()(embedding_item)\n",
    "    output_item = Dense(128, activation='relu')(embedding_item)\n",
    "    layer_user_item = keras.layers.concatenate([output_user, output_item])\n",
    "    layer_output = Dense(1, activation='sigmoid')(layer_user_item)\n",
    "    model = Model(inputs=[input_user, input_item], outputs=layer_output)\n",
    "    adam = Adam(lr=0.1)\n",
    "    model.compile(optimizer=adam, loss='binary_crossentropy', metrics=['acc', precision_score, recall_score])\n",
    "    return model"
   ]
  },
  {
   "cell_type": "code",
   "execution_count": 11,
   "metadata": {},
   "outputs": [],
   "source": [
    "from keras.callbacks import TensorBoard, ReduceLROnPlateau, ModelCheckpoint"
   ]
  },
  {
   "cell_type": "code",
   "execution_count": 14,
   "metadata": {},
   "outputs": [],
   "source": [
    "def train(X_item_train, X_item_test, X_user_train, X_user_test, y_train, y_test):\n",
    "    max_movie_id = max(X_item_train.max(), X_item_test.max())\n",
    "    model = build_model(int(max_movie_id), X_user_train.shape[1])\n",
    "    reduce_lr = ReduceLROnPlateau(factor=0.1, patience=3, min_lr=0.0001)\n",
    "    hist = model.fit([X_user_train, X_item_train], y_train, epochs=10, batch_size=256, \n",
    "                 validation_data=[[X_user_test, X_item_test], y_test], callbacks=[reduce_lr])\n",
    "    return hist, model"
   ]
  },
  {
   "cell_type": "code",
   "execution_count": null,
   "metadata": {},
   "outputs": [
    {
     "name": "stdout",
     "output_type": "stream",
     "text": [
      "Train on 9601120 samples, validate on 4154428 samples\n",
      "Epoch 1/10\n",
      " 179456/9601120 [..............................] - ETA: 37:44 - loss: 0.4218 - acc: 0.8647 - precision_score: 0.1857 - recall_score: 0.0216"
     ]
    }
   ],
   "source": [
    "hist, model = train(X_item_train, X_item_test, X_user_train, X_user_test, y_train, y_test)"
   ]
  },
  {
   "cell_type": "markdown",
   "metadata": {},
   "source": [
    "## 评估模型(auc)"
   ]
  },
  {
   "cell_type": "markdown",
   "metadata": {},
   "source": [
    "- 优化函数使用rmsprop，batch_size=1024，epoch=10，最终auc=0.81\n",
    "- Embedding加上initializer之后，4轮迭代之后auc也是0.81"
   ]
  },
  {
   "cell_type": "code",
   "execution_count": 97,
   "metadata": {},
   "outputs": [],
   "source": [
    "from sklearn.metrics import roc_curve, auc, recall_score, precision_score"
   ]
  },
  {
   "cell_type": "code",
   "execution_count": 99,
   "metadata": {},
   "outputs": [],
   "source": [
    "def estimate(model, X_user_test, X_item_test, y_test):\n",
    "    y_test = y_test.astype(np.int32)\n",
    "    pred_test = model.predict([X_user_test, X_item_test])\n",
    "    fpr, tpr, thresholds = roc_curve(y_test[:,0], pred_test[:,0])\n",
    "    auc_score = auc(fpr, tpr)\n",
    "    return auc_score"
   ]
  },
  {
   "cell_type": "code",
   "execution_count": null,
   "metadata": {},
   "outputs": [],
   "source": []
  }
 ],
 "metadata": {
  "kernelspec": {
   "display_name": "Python 3",
   "language": "python",
   "name": "python3"
  },
  "language_info": {
   "codemirror_mode": {
    "name": "ipython",
    "version": 3
   },
   "file_extension": ".py",
   "mimetype": "text/x-python",
   "name": "python",
   "nbconvert_exporter": "python",
   "pygments_lexer": "ipython3",
   "version": "3.6.8"
  }
 },
 "nbformat": 4,
 "nbformat_minor": 2
}

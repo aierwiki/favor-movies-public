{
 "cells": [
  {
   "cell_type": "markdown",
   "metadata": {},
   "source": [
    "- 该笔记主要是对数据做初步分析并进行处理，为后续模型训练准备好数据\n",
    "- 主要利用了两个数据\n",
    "    - ml-latest: movielens 数据集 (http://files.grouplens.org/datasets/movielens/),评分数据在20M左右\n",
    "    - movie_detail.csv，这部分数据是信息比较全的电影数据，为了项目上线，ml-latest只取该数据集里面的电影数据分析，数据来源：https://github.com/LuckyZXL2016/Movie_Recommend"
   ]
  },
  {
   "cell_type": "code",
   "execution_count": 2,
   "metadata": {},
   "outputs": [],
   "source": [
    "import warnings\n",
    "warnings.filterwarnings('ignore')"
   ]
  },
  {
   "cell_type": "code",
   "execution_count": 3,
   "metadata": {},
   "outputs": [],
   "source": [
    "import numpy as np\n",
    "import pandas as pd\n",
    "import re\n",
    "import matplotlib.pyplot as plt\n",
    "from IPython.core.display import Image, display\n",
    "%matplotlib inline"
   ]
  },
  {
   "cell_type": "code",
   "execution_count": 4,
   "metadata": {},
   "outputs": [],
   "source": [
    "def show_image(url):\n",
    "    display(Image(url, width=200, unconfined=True))"
   ]
  },
  {
   "cell_type": "markdown",
   "metadata": {},
   "source": [
    "#### 将数据库导出的表中电影名重名、空值的记录过滤掉"
   ]
  },
  {
   "cell_type": "code",
   "execution_count": 11,
   "metadata": {},
   "outputs": [],
   "source": [
    "df_movie = pd.read_csv('../../data/movie_detail.csv', engine='python', index_col=0)"
   ]
  },
  {
   "cell_type": "code",
   "execution_count": 12,
   "metadata": {},
   "outputs": [
    {
     "data": {
      "text/plain": [
       "(50605, 13)"
      ]
     },
     "execution_count": 12,
     "metadata": {},
     "output_type": "execute_result"
    }
   ],
   "source": [
    "df_movie.shape"
   ]
  },
  {
   "cell_type": "code",
   "execution_count": 13,
   "metadata": {},
   "outputs": [],
   "source": [
    "df_movie['moviename'] = df_movie['moviename'].map(lambda x : x.strip() if type(x) is str else np.nan)"
   ]
  },
  {
   "cell_type": "code",
   "execution_count": 14,
   "metadata": {},
   "outputs": [],
   "source": [
    "df_movie = df_movie.drop_duplicates(subset=['moviename'])"
   ]
  },
  {
   "cell_type": "code",
   "execution_count": 15,
   "metadata": {},
   "outputs": [],
   "source": [
    "df_movie = df_movie.dropna(subset=['moviename'])"
   ]
  },
  {
   "cell_type": "code",
   "execution_count": 16,
   "metadata": {},
   "outputs": [
    {
     "data": {
      "text/plain": [
       "(46922, 13)"
      ]
     },
     "execution_count": 16,
     "metadata": {},
     "output_type": "execute_result"
    }
   ],
   "source": [
    "df_movie.shape"
   ]
  },
  {
   "cell_type": "markdown",
   "metadata": {},
   "source": [
    "#### 将movielens的数据集中title重名为空的记录过滤掉"
   ]
  },
  {
   "cell_type": "code",
   "execution_count": 18,
   "metadata": {},
   "outputs": [],
   "source": [
    "df_movie_latest = pd.read_csv('../../data/ml-latest/movies.csv')"
   ]
  },
  {
   "cell_type": "code",
   "execution_count": 19,
   "metadata": {},
   "outputs": [],
   "source": [
    "def get_movie_name_and_year(title):\n",
    "    title = title.strip()\n",
    "    if '(' not in title:\n",
    "        return title, \"\"\n",
    "    regex = r'^(.*)\\((\\d+)\\)$'\n",
    "    result = re.match(regex, title)\n",
    "    if result is None:\n",
    "        #print(title)\n",
    "        return title, \"\"\n",
    "    else:\n",
    "        return result.group(1).strip(), result.group(2).strip()"
   ]
  },
  {
   "cell_type": "code",
   "execution_count": 20,
   "metadata": {},
   "outputs": [],
   "source": [
    "df_movie_latest['moviename'] = df_movie_latest['title'].map(lambda x : get_movie_name_and_year(x)[0])\n",
    "df_movie_latest['showyear'] = df_movie_latest['title'].map(lambda x : get_movie_name_and_year(x)[1])"
   ]
  },
  {
   "cell_type": "code",
   "execution_count": 21,
   "metadata": {},
   "outputs": [
    {
     "data": {
      "text/plain": [
       "(58098, 5)"
      ]
     },
     "execution_count": 21,
     "metadata": {},
     "output_type": "execute_result"
    }
   ],
   "source": [
    "df_movie_latest.shape"
   ]
  },
  {
   "cell_type": "code",
   "execution_count": 22,
   "metadata": {},
   "outputs": [],
   "source": [
    "df_movie_latest = df_movie_latest.drop_duplicates(subset=['moviename'])"
   ]
  },
  {
   "cell_type": "code",
   "execution_count": 23,
   "metadata": {},
   "outputs": [],
   "source": [
    "df_moive_latest = df_movie_latest.dropna(subset=['moviename'])"
   ]
  },
  {
   "cell_type": "code",
   "execution_count": 24,
   "metadata": {},
   "outputs": [
    {
     "data": {
      "text/plain": [
       "(54636, 5)"
      ]
     },
     "execution_count": 24,
     "metadata": {},
     "output_type": "execute_result"
    }
   ],
   "source": [
    "df_movie_latest.shape"
   ]
  },
  {
   "cell_type": "code",
   "execution_count": 25,
   "metadata": {},
   "outputs": [],
   "source": [
    "df_movie_clean = pd.merge(df_movie, df_movie_latest, on='moviename')"
   ]
  },
  {
   "cell_type": "code",
   "execution_count": 26,
   "metadata": {},
   "outputs": [],
   "source": [
    "df_movie_clean['showyear'] = df_movie_clean['showyear_x']"
   ]
  },
  {
   "cell_type": "code",
   "execution_count": 27,
   "metadata": {},
   "outputs": [],
   "source": [
    "df_movie_clean = df_movie_clean[['moviename', 'director',\n",
    "       'leadactors', 'screenwriter', 'picture', 'averating', 'numrating',\n",
    "       'description', 'typelist', 'backpost', 'movieId', 'title', 'genres',\n",
    "       'showyear']]"
   ]
  },
  {
   "cell_type": "code",
   "execution_count": 28,
   "metadata": {},
   "outputs": [],
   "source": [
    "df_movie_clean = df_movie_clean.reset_index(drop=True)"
   ]
  },
  {
   "cell_type": "code",
   "execution_count": 31,
   "metadata": {},
   "outputs": [],
   "source": [
    "df_movie_clean.to_csv('../../data/ml-clean/movies.csv')"
   ]
  },
  {
   "cell_type": "code",
   "execution_count": 33,
   "metadata": {},
   "outputs": [],
   "source": [
    "df_ratings = pd.read_csv('../../data/ml-latest/ratings.csv')"
   ]
  },
  {
   "cell_type": "code",
   "execution_count": 34,
   "metadata": {},
   "outputs": [],
   "source": [
    "df_ratings_clean = pd.merge(df_movie_clean[['movieId']], df_ratings, on='movieId')"
   ]
  },
  {
   "cell_type": "code",
   "execution_count": 35,
   "metadata": {},
   "outputs": [
    {
     "data": {
      "text/plain": [
       "(16205120, 4)"
      ]
     },
     "execution_count": 35,
     "metadata": {},
     "output_type": "execute_result"
    }
   ],
   "source": [
    "df_ratings_clean.shape"
   ]
  },
  {
   "cell_type": "code",
   "execution_count": 36,
   "metadata": {},
   "outputs": [
    {
     "data": {
      "text/plain": [
       "(27753444, 4)"
      ]
     },
     "execution_count": 36,
     "metadata": {},
     "output_type": "execute_result"
    }
   ],
   "source": [
    "df_ratings.shape"
   ]
  },
  {
   "cell_type": "code",
   "execution_count": 37,
   "metadata": {},
   "outputs": [],
   "source": [
    "df_ratings_clean = df_ratings_clean.reset_index(drop=True)"
   ]
  },
  {
   "cell_type": "code",
   "execution_count": 38,
   "metadata": {},
   "outputs": [],
   "source": [
    "df_ratings_clean.to_csv('../../data/ml-clean/ratings.csv')"
   ]
  },
  {
   "cell_type": "code",
   "execution_count": 39,
   "metadata": {},
   "outputs": [
    {
     "data": {
      "text/plain": [
       "(16205120, 4)"
      ]
     },
     "execution_count": 39,
     "metadata": {},
     "output_type": "execute_result"
    }
   ],
   "source": [
    "df_ratings_clean.shape"
   ]
  },
  {
   "cell_type": "markdown",
   "metadata": {},
   "source": [
    "## 分析数据并作处理"
   ]
  },
  {
   "cell_type": "code",
   "execution_count": 41,
   "metadata": {},
   "outputs": [],
   "source": [
    "df_movies = pd.read_csv('../../data/ml-clean/movies.csv', index_col=0)"
   ]
  },
  {
   "cell_type": "code",
   "execution_count": 42,
   "metadata": {},
   "outputs": [
    {
     "name": "stdout",
     "output_type": "stream",
     "text": [
      "电影数量：34624\n"
     ]
    }
   ],
   "source": [
    "print('电影数量：{}'.format(df_movies.shape[0]))"
   ]
  },
  {
   "cell_type": "code",
   "execution_count": 43,
   "metadata": {},
   "outputs": [],
   "source": [
    "df_ratings = pd.read_csv('../../data/ml-clean/ratings.csv', index_col=0)"
   ]
  },
  {
   "cell_type": "code",
   "execution_count": 44,
   "metadata": {},
   "outputs": [
    {
     "data": {
      "text/plain": [
       "Index(['movieId', 'userId', 'rating', 'timestamp'], dtype='object')"
      ]
     },
     "execution_count": 44,
     "metadata": {},
     "output_type": "execute_result"
    }
   ],
   "source": [
    "df_ratings.columns"
   ]
  },
  {
   "cell_type": "code",
   "execution_count": 45,
   "metadata": {},
   "outputs": [
    {
     "name": "stdout",
     "output_type": "stream",
     "text": [
      "用户的数量：278153\n"
     ]
    }
   ],
   "source": [
    "print('用户的数量：{}'.format(df_ratings['userId'].nunique()))"
   ]
  },
  {
   "cell_type": "code",
   "execution_count": 46,
   "metadata": {},
   "outputs": [
    {
     "name": "stdout",
     "output_type": "stream",
     "text": [
      "评论数量：16205120\n"
     ]
    }
   ],
   "source": [
    "print('评论数量：{}'.format(df_ratings.shape[0]))"
   ]
  },
  {
   "cell_type": "markdown",
   "metadata": {},
   "source": [
    "#### 电影被用户评论的情况"
   ]
  },
  {
   "cell_type": "code",
   "execution_count": 47,
   "metadata": {},
   "outputs": [
    {
     "data": {
      "text/plain": [
       "count    31468.000000\n",
       "mean       514.971400\n",
       "std       2808.592065\n",
       "min          1.000000\n",
       "25%          2.000000\n",
       "50%          6.000000\n",
       "75%         44.000000\n",
       "max      97040.000000\n",
       "Name: movieId, dtype: float64"
      ]
     },
     "execution_count": 47,
     "metadata": {},
     "output_type": "execute_result"
    }
   ],
   "source": [
    "df_ratings['movieId'].value_counts().describe()"
   ]
  },
  {
   "cell_type": "markdown",
   "metadata": {},
   "source": [
    "- 一半的电影评论的用户数不足6个，$\\frac{3}{4}$的用户被不到50个用户打分\n",
    "- 这种很少有用户评论的电影在UserCF中由于过于稀疏，商品之间难以产生关系，需要将评论数小于等于6个的电影去掉"
   ]
  },
  {
   "cell_type": "code",
   "execution_count": 48,
   "metadata": {},
   "outputs": [],
   "source": [
    "df_valid_movies = df_ratings['movieId'].value_counts().reset_index()"
   ]
  },
  {
   "cell_type": "code",
   "execution_count": 49,
   "metadata": {},
   "outputs": [],
   "source": [
    "df_valid_movies.columns = ['movieId', 'Count']"
   ]
  },
  {
   "cell_type": "code",
   "execution_count": 50,
   "metadata": {},
   "outputs": [],
   "source": [
    "df_valid_movies = df_valid_movies[df_valid_movies['Count'] > 6]"
   ]
  },
  {
   "cell_type": "markdown",
   "metadata": {},
   "source": [
    "#### 用户评论电影的情况"
   ]
  },
  {
   "cell_type": "code",
   "execution_count": 51,
   "metadata": {},
   "outputs": [
    {
     "data": {
      "text/plain": [
       "count    278153.000000\n",
       "mean         58.259735\n",
       "std         127.313355\n",
       "min           1.000000\n",
       "25%           9.000000\n",
       "50%          18.000000\n",
       "75%          55.000000\n",
       "max       12816.000000\n",
       "Name: userId, dtype: float64"
      ]
     },
     "execution_count": 51,
     "metadata": {},
     "output_type": "execute_result"
    }
   ],
   "source": [
    "df_ratings['userId'].value_counts().describe()"
   ]
  },
  {
   "cell_type": "code",
   "execution_count": 52,
   "metadata": {},
   "outputs": [
    {
     "data": {
      "text/plain": [
       "count    278153.000000\n",
       "mean       5000.029933\n",
       "std          14.851323\n",
       "min        5000.000000\n",
       "25%        5000.000000\n",
       "50%        5000.000000\n",
       "75%        5000.000000\n",
       "max       12816.000000\n",
       "Name: userId, dtype: float64"
      ]
     },
     "execution_count": 52,
     "metadata": {},
     "output_type": "execute_result"
    }
   ],
   "source": [
    "df_ratings['userId'].value_counts().clip(5000, 20000).describe()"
   ]
  },
  {
   "cell_type": "markdown",
   "metadata": {},
   "source": [
    "- 差不多1/4的用户评论数在10个以下，过少评论的用户提供的信息也比较少，需要去掉。"
   ]
  },
  {
   "cell_type": "code",
   "execution_count": 53,
   "metadata": {},
   "outputs": [],
   "source": [
    "df_valid_users = df_ratings['userId'].value_counts().reset_index()\n",
    "\n",
    "df_valid_users.columns = ['userId', 'Count']\n",
    "\n",
    "df_valid_users = df_valid_users[df_valid_users['Count'] > 10]"
   ]
  },
  {
   "cell_type": "markdown",
   "metadata": {},
   "source": [
    "#### 多次评论的情况"
   ]
  },
  {
   "cell_type": "code",
   "execution_count": 54,
   "metadata": {},
   "outputs": [
    {
     "data": {
      "text/plain": [
       "Timestamp('1995-01-09 11:46:49')"
      ]
     },
     "execution_count": 54,
     "metadata": {},
     "output_type": "execute_result"
    }
   ],
   "source": [
    "pd.to_datetime(df_ratings['timestamp'].min(), unit='s')"
   ]
  },
  {
   "cell_type": "code",
   "execution_count": 55,
   "metadata": {},
   "outputs": [
    {
     "data": {
      "text/plain": [
       "Timestamp('2018-09-26 06:58:50')"
      ]
     },
     "execution_count": 55,
     "metadata": {},
     "output_type": "execute_result"
    }
   ],
   "source": [
    "pd.to_datetime(df_ratings['timestamp'].max(), unit='s')"
   ]
  },
  {
   "cell_type": "code",
   "execution_count": 56,
   "metadata": {},
   "outputs": [],
   "source": [
    "df_ratings['movie_user'] = df_ratings['movieId'].map(str) + '_' + df_ratings['userId'].map(str)"
   ]
  },
  {
   "cell_type": "code",
   "execution_count": 57,
   "metadata": {},
   "outputs": [
    {
     "data": {
      "text/plain": [
       "count    16205120.0\n",
       "mean            1.0\n",
       "std             0.0\n",
       "min             1.0\n",
       "25%             1.0\n",
       "50%             1.0\n",
       "75%             1.0\n",
       "max             1.0\n",
       "Name: movie_user, dtype: float64"
      ]
     },
     "execution_count": 57,
     "metadata": {},
     "output_type": "execute_result"
    }
   ],
   "source": [
    "df_ratings['movie_user'].value_counts().describe()"
   ]
  },
  {
   "cell_type": "code",
   "execution_count": 58,
   "metadata": {},
   "outputs": [],
   "source": [
    "df_valid_ratings = df_ratings['movie_user'].value_counts().reset_index()"
   ]
  },
  {
   "cell_type": "code",
   "execution_count": 59,
   "metadata": {},
   "outputs": [],
   "source": [
    "df_valid_ratings.columns = ['userId', 'Count']"
   ]
  },
  {
   "cell_type": "code",
   "execution_count": 60,
   "metadata": {},
   "outputs": [],
   "source": [
    "df_valid_ratings = df_valid_ratings[df_valid_ratings['Count'] <= 1]"
   ]
  },
  {
   "cell_type": "code",
   "execution_count": 61,
   "metadata": {},
   "outputs": [],
   "source": [
    "df_valid_ratings['userId'] = df_valid_ratings['userId'].map(lambda x : int(x.split('_')[0]))"
   ]
  },
  {
   "cell_type": "code",
   "execution_count": 62,
   "metadata": {},
   "outputs": [],
   "source": [
    "df_valid_ratings = df_valid_ratings.drop_duplicates(subset=['userId'])"
   ]
  },
  {
   "cell_type": "code",
   "execution_count": 63,
   "metadata": {},
   "outputs": [
    {
     "data": {
      "text/plain": [
       "(31468, 2)"
      ]
     },
     "execution_count": 63,
     "metadata": {},
     "output_type": "execute_result"
    }
   ],
   "source": [
    "df_valid_ratings.shape"
   ]
  },
  {
   "cell_type": "markdown",
   "metadata": {},
   "source": [
    "- 有将近1/10的评论是用户对电影的重复评论\n",
    "- 将有重复评论的用户筛掉"
   ]
  },
  {
   "cell_type": "markdown",
   "metadata": {},
   "source": [
    "## 筛选数据"
   ]
  },
  {
   "cell_type": "code",
   "execution_count": 64,
   "metadata": {},
   "outputs": [],
   "source": [
    "df_ratings_clean = pd.merge(df_ratings, df_valid_movies[['movieId']], on='movieId')"
   ]
  },
  {
   "cell_type": "code",
   "execution_count": 65,
   "metadata": {},
   "outputs": [],
   "source": [
    "df_ratings_clean = pd.merge(df_ratings_clean, df_valid_users[['userId']], on='userId')"
   ]
  },
  {
   "cell_type": "code",
   "execution_count": 66,
   "metadata": {},
   "outputs": [
    {
     "name": "stdout",
     "output_type": "stream",
     "text": [
      "筛选前的评论数：16205120\n"
     ]
    }
   ],
   "source": [
    "print(\"筛选前的评论数：{}\".format(df_ratings.shape[0]))"
   ]
  },
  {
   "cell_type": "code",
   "execution_count": 67,
   "metadata": {},
   "outputs": [
    {
     "name": "stdout",
     "output_type": "stream",
     "text": [
      "筛选后的评论数：15654592\n"
     ]
    }
   ],
   "source": [
    "print(\"筛选后的评论数：{}\".format(df_ratings_clean.shape[0]))"
   ]
  },
  {
   "cell_type": "code",
   "execution_count": 68,
   "metadata": {},
   "outputs": [
    {
     "name": "stdout",
     "output_type": "stream",
     "text": [
      "筛选前用户数：278153, 筛选后用户数：189911\n"
     ]
    }
   ],
   "source": [
    "print(\"筛选前用户数：{}, 筛选后用户数：{}\".format(df_ratings['userId'].nunique(), df_ratings_clean['userId'].nunique()))"
   ]
  },
  {
   "cell_type": "code",
   "execution_count": 69,
   "metadata": {},
   "outputs": [
    {
     "name": "stdout",
     "output_type": "stream",
     "text": [
      "筛选前电影数：31468, 筛选后电影数：15171\n"
     ]
    }
   ],
   "source": [
    "print(\"筛选前电影数：{}, 筛选后电影数：{}\".format(df_ratings['movieId'].nunique(), df_ratings_clean['movieId'].nunique()))"
   ]
  },
  {
   "cell_type": "code",
   "execution_count": 70,
   "metadata": {},
   "outputs": [],
   "source": [
    "df_movies_clean = pd.merge(df_movies, df_valid_movies[['movieId']], on='movieId')"
   ]
  },
  {
   "cell_type": "code",
   "execution_count": 71,
   "metadata": {},
   "outputs": [
    {
     "data": {
      "text/plain": [
       "(15171, 2)"
      ]
     },
     "execution_count": 71,
     "metadata": {},
     "output_type": "execute_result"
    }
   ],
   "source": [
    "df_valid_movies.shape"
   ]
  },
  {
   "cell_type": "code",
   "execution_count": 72,
   "metadata": {},
   "outputs": [
    {
     "data": {
      "text/plain": [
       "(34624, 14)"
      ]
     },
     "execution_count": 72,
     "metadata": {},
     "output_type": "execute_result"
    }
   ],
   "source": [
    "df_movies.shape"
   ]
  },
  {
   "cell_type": "code",
   "execution_count": 73,
   "metadata": {},
   "outputs": [
    {
     "data": {
      "text/plain": [
       "34624"
      ]
     },
     "execution_count": 73,
     "metadata": {},
     "output_type": "execute_result"
    }
   ],
   "source": [
    "df_movies['movieId'].nunique()"
   ]
  },
  {
   "cell_type": "markdown",
   "metadata": {},
   "source": [
    "## 将筛选后的数据进行保存，供后续模型训练使用"
   ]
  },
  {
   "cell_type": "code",
   "execution_count": 4,
   "metadata": {},
   "outputs": [
    {
     "ename": "NameError",
     "evalue": "name 'df_movies_clean' is not defined",
     "output_type": "error",
     "traceback": [
      "\u001b[0;31m---------------------------------------------------------------------------\u001b[0m",
      "\u001b[0;31mNameError\u001b[0m                                 Traceback (most recent call last)",
      "\u001b[0;32m<ipython-input-4-c9a730bdb777>\u001b[0m in \u001b[0;36m<module>\u001b[0;34m\u001b[0m\n\u001b[0;32m----> 1\u001b[0;31m \u001b[0mdf_movies_clean\u001b[0m\u001b[0;34m.\u001b[0m\u001b[0mto_csv\u001b[0m\u001b[0;34m(\u001b[0m\u001b[0;34m'../../data/ml-clean/movies_v2.csv'\u001b[0m\u001b[0;34m)\u001b[0m\u001b[0;34m\u001b[0m\u001b[0;34m\u001b[0m\u001b[0m\n\u001b[0m",
      "\u001b[0;31mNameError\u001b[0m: name 'df_movies_clean' is not defined"
     ]
    }
   ],
   "source": [
    "df_movies_clean.to_csv('../../data/ml-clean/movies_v2.csv')"
   ]
  },
  {
   "cell_type": "code",
   "execution_count": 76,
   "metadata": {},
   "outputs": [],
   "source": [
    "df_ratings_clean.to_csv('../../data/ml-clean/ratings_v2.csv')"
   ]
  },
  {
   "cell_type": "markdown",
   "metadata": {},
   "source": [
    "## 筛选出需要导入微信小程序后台的数据"
   ]
  },
  {
   "cell_type": "code",
   "execution_count": 14,
   "metadata": {},
   "outputs": [],
   "source": [
    "df_movies_import = pd.read_csv('../../data/ml-clean/movies_v2.csv', index_col=0)"
   ]
  },
  {
   "cell_type": "code",
   "execution_count": 15,
   "metadata": {},
   "outputs": [],
   "source": [
    "df_movies_import['name'] = df_movies_import['moviename']\n",
    "df_movies_import['picUrl'] = df_movies_import['picture'].map(lambda x : x if x is not np.nan and 'jpg' in x else np.nan)"
   ]
  },
  {
   "cell_type": "code",
   "execution_count": 16,
   "metadata": {},
   "outputs": [],
   "source": [
    "df_movies_import['score'] = df_movies_import['averating']"
   ]
  },
  {
   "cell_type": "code",
   "execution_count": 17,
   "metadata": {},
   "outputs": [],
   "source": [
    "cols = ['movieId', 'name', 'score', 'picUrl', 'director', 'leadactors', 'genres', 'showyear']"
   ]
  },
  {
   "cell_type": "code",
   "execution_count": 18,
   "metadata": {},
   "outputs": [],
   "source": [
    "df_movies_import = df_movies_import[cols].dropna(subset=['picUrl']).copy()"
   ]
  },
  {
   "cell_type": "code",
   "execution_count": 19,
   "metadata": {},
   "outputs": [],
   "source": [
    "df_movies_import['imdbPicUrl'] = df_movies_import['picUrl']"
   ]
  },
  {
   "cell_type": "code",
   "execution_count": 20,
   "metadata": {},
   "outputs": [],
   "source": [
    "df_movies_import['smallPicUrl'] = df_movies_import['picUrl']"
   ]
  },
  {
   "cell_type": "code",
   "execution_count": 21,
   "metadata": {},
   "outputs": [
    {
     "data": {
      "text/html": [
       "<div>\n",
       "<style scoped>\n",
       "    .dataframe tbody tr th:only-of-type {\n",
       "        vertical-align: middle;\n",
       "    }\n",
       "\n",
       "    .dataframe tbody tr th {\n",
       "        vertical-align: top;\n",
       "    }\n",
       "\n",
       "    .dataframe thead th {\n",
       "        text-align: right;\n",
       "    }\n",
       "</style>\n",
       "<table border=\"1\" class=\"dataframe\">\n",
       "  <thead>\n",
       "    <tr style=\"text-align: right;\">\n",
       "      <th></th>\n",
       "      <th>movieId</th>\n",
       "      <th>name</th>\n",
       "      <th>score</th>\n",
       "      <th>picUrl</th>\n",
       "      <th>director</th>\n",
       "      <th>leadactors</th>\n",
       "      <th>genres</th>\n",
       "      <th>showyear</th>\n",
       "      <th>imdbPicUrl</th>\n",
       "      <th>smallPicUrl</th>\n",
       "    </tr>\n",
       "  </thead>\n",
       "  <tbody>\n",
       "    <tr>\n",
       "      <th>0</th>\n",
       "      <td>1</td>\n",
       "      <td>Toy Story</td>\n",
       "      <td>3.9</td>\n",
       "      <td>http://image.tmdb.org/t/p/w185/rhIRbceoE9lR4ve...</td>\n",
       "      <td>John Lasseter</td>\n",
       "      <td>Tom Hanks,Tim Allen,Don Rickles,Jim Varney,Wal...</td>\n",
       "      <td>Adventure|Animation|Children|Comedy|Fantasy</td>\n",
       "      <td>1995-10-30</td>\n",
       "      <td>http://image.tmdb.org/t/p/w185/rhIRbceoE9lR4ve...</td>\n",
       "      <td>http://image.tmdb.org/t/p/w185/rhIRbceoE9lR4ve...</td>\n",
       "    </tr>\n",
       "    <tr>\n",
       "      <th>1</th>\n",
       "      <td>2</td>\n",
       "      <td>Jumanji</td>\n",
       "      <td>3.2</td>\n",
       "      <td>http://image.tmdb.org/t/p/w185/8wBKXZNod4frLZj...</td>\n",
       "      <td>Joe Johnston</td>\n",
       "      <td>Robin Williams,Jonathan Hyde,Kirsten Dunst,Bra...</td>\n",
       "      <td>Adventure|Children|Fantasy</td>\n",
       "      <td>1995-12-15</td>\n",
       "      <td>http://image.tmdb.org/t/p/w185/8wBKXZNod4frLZj...</td>\n",
       "      <td>http://image.tmdb.org/t/p/w185/8wBKXZNod4frLZj...</td>\n",
       "    </tr>\n",
       "    <tr>\n",
       "      <th>2</th>\n",
       "      <td>3</td>\n",
       "      <td>Grumpier Old Men</td>\n",
       "      <td>3.2</td>\n",
       "      <td>http://image.tmdb.org/t/p/w185/6ksm1sjKMFLbO7U...</td>\n",
       "      <td>Howard Deutch</td>\n",
       "      <td>Walter Matthau,Jack Lemmon,Ann-Margret,Sophia ...</td>\n",
       "      <td>Comedy|Romance</td>\n",
       "      <td>1995-12-22</td>\n",
       "      <td>http://image.tmdb.org/t/p/w185/6ksm1sjKMFLbO7U...</td>\n",
       "      <td>http://image.tmdb.org/t/p/w185/6ksm1sjKMFLbO7U...</td>\n",
       "    </tr>\n",
       "    <tr>\n",
       "      <th>3</th>\n",
       "      <td>4</td>\n",
       "      <td>Waiting to Exhale</td>\n",
       "      <td>2.9</td>\n",
       "      <td>http://image.tmdb.org/t/p/w185/16XOMpEaLWkrcPq...</td>\n",
       "      <td>Forest Whitaker</td>\n",
       "      <td>Whitney Houston,Angela Bassett,Loretta Devine,...</td>\n",
       "      <td>Comedy|Drama|Romance</td>\n",
       "      <td>1995-12-22</td>\n",
       "      <td>http://image.tmdb.org/t/p/w185/16XOMpEaLWkrcPq...</td>\n",
       "      <td>http://image.tmdb.org/t/p/w185/16XOMpEaLWkrcPq...</td>\n",
       "    </tr>\n",
       "    <tr>\n",
       "      <th>4</th>\n",
       "      <td>5</td>\n",
       "      <td>Father of the Bride Part II</td>\n",
       "      <td>3.1</td>\n",
       "      <td>http://image.tmdb.org/t/p/w185/e64sOI48hQXyru7...</td>\n",
       "      <td>Charles Shyer</td>\n",
       "      <td>Steve Martin,Diane Keaton,Martin Short,Kimberl...</td>\n",
       "      <td>Comedy</td>\n",
       "      <td>1995-02-10</td>\n",
       "      <td>http://image.tmdb.org/t/p/w185/e64sOI48hQXyru7...</td>\n",
       "      <td>http://image.tmdb.org/t/p/w185/e64sOI48hQXyru7...</td>\n",
       "    </tr>\n",
       "  </tbody>\n",
       "</table>\n",
       "</div>"
      ],
      "text/plain": [
       "   movieId                         name  score  \\\n",
       "0        1                    Toy Story    3.9   \n",
       "1        2                      Jumanji    3.2   \n",
       "2        3             Grumpier Old Men    3.2   \n",
       "3        4            Waiting to Exhale    2.9   \n",
       "4        5  Father of the Bride Part II    3.1   \n",
       "\n",
       "                                              picUrl         director  \\\n",
       "0  http://image.tmdb.org/t/p/w185/rhIRbceoE9lR4ve...    John Lasseter   \n",
       "1  http://image.tmdb.org/t/p/w185/8wBKXZNod4frLZj...     Joe Johnston   \n",
       "2  http://image.tmdb.org/t/p/w185/6ksm1sjKMFLbO7U...    Howard Deutch   \n",
       "3  http://image.tmdb.org/t/p/w185/16XOMpEaLWkrcPq...  Forest Whitaker   \n",
       "4  http://image.tmdb.org/t/p/w185/e64sOI48hQXyru7...    Charles Shyer   \n",
       "\n",
       "                                          leadactors  \\\n",
       "0  Tom Hanks,Tim Allen,Don Rickles,Jim Varney,Wal...   \n",
       "1  Robin Williams,Jonathan Hyde,Kirsten Dunst,Bra...   \n",
       "2  Walter Matthau,Jack Lemmon,Ann-Margret,Sophia ...   \n",
       "3  Whitney Houston,Angela Bassett,Loretta Devine,...   \n",
       "4  Steve Martin,Diane Keaton,Martin Short,Kimberl...   \n",
       "\n",
       "                                        genres    showyear  \\\n",
       "0  Adventure|Animation|Children|Comedy|Fantasy  1995-10-30   \n",
       "1                   Adventure|Children|Fantasy  1995-12-15   \n",
       "2                               Comedy|Romance  1995-12-22   \n",
       "3                         Comedy|Drama|Romance  1995-12-22   \n",
       "4                                       Comedy  1995-02-10   \n",
       "\n",
       "                                          imdbPicUrl  \\\n",
       "0  http://image.tmdb.org/t/p/w185/rhIRbceoE9lR4ve...   \n",
       "1  http://image.tmdb.org/t/p/w185/8wBKXZNod4frLZj...   \n",
       "2  http://image.tmdb.org/t/p/w185/6ksm1sjKMFLbO7U...   \n",
       "3  http://image.tmdb.org/t/p/w185/16XOMpEaLWkrcPq...   \n",
       "4  http://image.tmdb.org/t/p/w185/e64sOI48hQXyru7...   \n",
       "\n",
       "                                         smallPicUrl  \n",
       "0  http://image.tmdb.org/t/p/w185/rhIRbceoE9lR4ve...  \n",
       "1  http://image.tmdb.org/t/p/w185/8wBKXZNod4frLZj...  \n",
       "2  http://image.tmdb.org/t/p/w185/6ksm1sjKMFLbO7U...  \n",
       "3  http://image.tmdb.org/t/p/w185/16XOMpEaLWkrcPq...  \n",
       "4  http://image.tmdb.org/t/p/w185/e64sOI48hQXyru7...  "
      ]
     },
     "execution_count": 21,
     "metadata": {},
     "output_type": "execute_result"
    }
   ],
   "source": [
    "df_movies_import.head()"
   ]
  },
  {
   "cell_type": "code",
   "execution_count": 22,
   "metadata": {},
   "outputs": [
    {
     "data": {
      "text/plain": [
       "['http://image.tmdb.org/t/p/w185/rhIRbceoE9lR4veEXuwCC2wARtG.jpg',\n",
       " 'http://image.tmdb.org/t/p/w185/8wBKXZNod4frLZjAKSDuAcQ2dEU.jpg',\n",
       " 'http://image.tmdb.org/t/p/w185/6ksm1sjKMFLbO7UY2i6G1ju9SML.jpg',\n",
       " 'http://image.tmdb.org/t/p/w185/16XOMpEaLWkrcPqSQqhTmeJuqQl.jpg',\n",
       " 'http://image.tmdb.org/t/p/w185/e64sOI48hQXyru7naBFyssKFxVd.jpg']"
      ]
     },
     "execution_count": 22,
     "metadata": {},
     "output_type": "execute_result"
    }
   ],
   "source": [
    "df_movies_import['imdbPicUrl'].head().values.tolist()"
   ]
  },
  {
   "cell_type": "code",
   "execution_count": 23,
   "metadata": {},
   "outputs": [],
   "source": [
    "df_movies_import.to_csv('../../data/wxcloud/import_movies_data.csv', index=None)"
   ]
  },
  {
   "cell_type": "code",
   "execution_count": null,
   "metadata": {},
   "outputs": [],
   "source": []
  }
 ],
 "metadata": {
  "kernelspec": {
   "display_name": "Python 3",
   "language": "python",
   "name": "python3"
  },
  "language_info": {
   "codemirror_mode": {
    "name": "ipython",
    "version": 3
   },
   "file_extension": ".py",
   "mimetype": "text/x-python",
   "name": "python",
   "nbconvert_exporter": "python",
   "pygments_lexer": "ipython3",
   "version": "3.6.8"
  }
 },
 "nbformat": 4,
 "nbformat_minor": 2
}
